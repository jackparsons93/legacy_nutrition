{
 "cells": [
  {
   "cell_type": "code",
   "execution_count": 1,
   "id": "e9171c43",
   "metadata": {},
   "outputs": [],
   "source": [
    "import pandas as pd"
   ]
  },
  {
   "cell_type": "code",
   "execution_count": 3,
   "id": "e76dc519",
   "metadata": {},
   "outputs": [],
   "source": [
    "df1 = pd.read_csv(\"nutrient.csv\")"
   ]
  },
  {
   "cell_type": "code",
   "execution_count": 4,
   "id": "c81d0191",
   "metadata": {},
   "outputs": [],
   "source": [
    "df2 = pd.read_csv('food_nutrient.csv')"
   ]
  },
  {
   "cell_type": "code",
   "execution_count": 8,
   "id": "c23a9625",
   "metadata": {},
   "outputs": [],
   "source": [
    "desired_ids = [1003] + list(range(1210, 1234))"
   ]
  },
  {
   "cell_type": "code",
   "execution_count": 10,
   "id": "7dad9909",
   "metadata": {},
   "outputs": [],
   "source": [
    "filtered_df1 = df[df['id'].isin(desired_ids)]"
   ]
  },
  {
   "cell_type": "code",
   "execution_count": 20,
   "id": "9d318995",
   "metadata": {},
   "outputs": [],
   "source": [
    "df1=filtered_df1[['id', 'name']]"
   ]
  },
  {
   "cell_type": "code",
   "execution_count": 21,
   "id": "6bf3616c",
   "metadata": {},
   "outputs": [],
   "source": [
    "columns_to_select = ['fdc_id' ,'nutrient_id', 'amount']\n",
    "df2 = df2[columns_to_select]"
   ]
  },
  {
   "cell_type": "code",
   "execution_count": 27,
   "id": "df4e58a3",
   "metadata": {},
   "outputs": [
    {
     "data": {
      "text/html": [
       "<div>\n",
       "<style scoped>\n",
       "    .dataframe tbody tr th:only-of-type {\n",
       "        vertical-align: middle;\n",
       "    }\n",
       "\n",
       "    .dataframe tbody tr th {\n",
       "        vertical-align: top;\n",
       "    }\n",
       "\n",
       "    .dataframe thead th {\n",
       "        text-align: right;\n",
       "    }\n",
       "</style>\n",
       "<table border=\"1\" class=\"dataframe\">\n",
       "  <thead>\n",
       "    <tr style=\"text-align: right;\">\n",
       "      <th></th>\n",
       "      <th>fdc_id</th>\n",
       "      <th>nutrient_id</th>\n",
       "      <th>amount</th>\n",
       "    </tr>\n",
       "  </thead>\n",
       "  <tbody>\n",
       "    <tr>\n",
       "      <th>0</th>\n",
       "      <td>167512</td>\n",
       "      <td>1003</td>\n",
       "      <td>5.880</td>\n",
       "    </tr>\n",
       "    <tr>\n",
       "      <th>14</th>\n",
       "      <td>167513</td>\n",
       "      <td>1003</td>\n",
       "      <td>4.340</td>\n",
       "    </tr>\n",
       "    <tr>\n",
       "      <th>38</th>\n",
       "      <td>167514</td>\n",
       "      <td>1003</td>\n",
       "      <td>6.100</td>\n",
       "    </tr>\n",
       "    <tr>\n",
       "      <th>51</th>\n",
       "      <td>167515</td>\n",
       "      <td>1003</td>\n",
       "      <td>8.000</td>\n",
       "    </tr>\n",
       "    <tr>\n",
       "      <th>73</th>\n",
       "      <td>167516</td>\n",
       "      <td>1210</td>\n",
       "      <td>0.074</td>\n",
       "    </tr>\n",
       "    <tr>\n",
       "      <th>...</th>\n",
       "      <td>...</td>\n",
       "      <td>...</td>\n",
       "      <td>...</td>\n",
       "    </tr>\n",
       "    <tr>\n",
       "      <th>644102</th>\n",
       "      <td>175304</td>\n",
       "      <td>1210</td>\n",
       "      <td>0.403</td>\n",
       "    </tr>\n",
       "    <tr>\n",
       "      <th>644103</th>\n",
       "      <td>175304</td>\n",
       "      <td>1211</td>\n",
       "      <td>1.290</td>\n",
       "    </tr>\n",
       "    <tr>\n",
       "      <th>644104</th>\n",
       "      <td>175304</td>\n",
       "      <td>1215</td>\n",
       "      <td>0.726</td>\n",
       "    </tr>\n",
       "    <tr>\n",
       "      <th>644105</th>\n",
       "      <td>175304</td>\n",
       "      <td>1217</td>\n",
       "      <td>0.941</td>\n",
       "    </tr>\n",
       "    <tr>\n",
       "      <th>644106</th>\n",
       "      <td>175304</td>\n",
       "      <td>1218</td>\n",
       "      <td>0.833</td>\n",
       "    </tr>\n",
       "  </tbody>\n",
       "</table>\n",
       "<p>99974 rows × 3 columns</p>\n",
       "</div>"
      ],
      "text/plain": [
       "        fdc_id  nutrient_id  amount\n",
       "0       167512         1003   5.880\n",
       "14      167513         1003   4.340\n",
       "38      167514         1003   6.100\n",
       "51      167515         1003   8.000\n",
       "73      167516         1210   0.074\n",
       "...        ...          ...     ...\n",
       "644102  175304         1210   0.403\n",
       "644103  175304         1211   1.290\n",
       "644104  175304         1215   0.726\n",
       "644105  175304         1217   0.941\n",
       "644106  175304         1218   0.833\n",
       "\n",
       "[99974 rows x 3 columns]"
      ]
     },
     "execution_count": 27,
     "metadata": {},
     "output_type": "execute_result"
    }
   ],
   "source": [
    "desired_ids = [1003] + list(range(1210, 1234))\n",
    "df2 = df2[df2['nutrient_id'].isin(desired_ids)]\n",
    "df2\n"
   ]
  },
  {
   "cell_type": "code",
   "execution_count": 28,
   "id": "e49aa4fe",
   "metadata": {
    "scrolled": true
   },
   "outputs": [
    {
     "data": {
      "text/html": [
       "<div>\n",
       "<style scoped>\n",
       "    .dataframe tbody tr th:only-of-type {\n",
       "        vertical-align: middle;\n",
       "    }\n",
       "\n",
       "    .dataframe tbody tr th {\n",
       "        vertical-align: top;\n",
       "    }\n",
       "\n",
       "    .dataframe thead th {\n",
       "        text-align: right;\n",
       "    }\n",
       "</style>\n",
       "<table border=\"1\" class=\"dataframe\">\n",
       "  <thead>\n",
       "    <tr style=\"text-align: right;\">\n",
       "      <th></th>\n",
       "      <th>id</th>\n",
       "      <th>name</th>\n",
       "    </tr>\n",
       "  </thead>\n",
       "  <tbody>\n",
       "    <tr>\n",
       "      <th>4</th>\n",
       "      <td>1003</td>\n",
       "      <td>Protein</td>\n",
       "    </tr>\n",
       "    <tr>\n",
       "      <th>211</th>\n",
       "      <td>1210</td>\n",
       "      <td>Tryptophan</td>\n",
       "    </tr>\n",
       "    <tr>\n",
       "      <th>212</th>\n",
       "      <td>1211</td>\n",
       "      <td>Threonine</td>\n",
       "    </tr>\n",
       "    <tr>\n",
       "      <th>213</th>\n",
       "      <td>1212</td>\n",
       "      <td>Isoleucine</td>\n",
       "    </tr>\n",
       "    <tr>\n",
       "      <th>214</th>\n",
       "      <td>1213</td>\n",
       "      <td>Leucine</td>\n",
       "    </tr>\n",
       "    <tr>\n",
       "      <th>215</th>\n",
       "      <td>1214</td>\n",
       "      <td>Lysine</td>\n",
       "    </tr>\n",
       "    <tr>\n",
       "      <th>216</th>\n",
       "      <td>1215</td>\n",
       "      <td>Methionine</td>\n",
       "    </tr>\n",
       "    <tr>\n",
       "      <th>217</th>\n",
       "      <td>1216</td>\n",
       "      <td>Cystine</td>\n",
       "    </tr>\n",
       "    <tr>\n",
       "      <th>218</th>\n",
       "      <td>1217</td>\n",
       "      <td>Phenylalanine</td>\n",
       "    </tr>\n",
       "    <tr>\n",
       "      <th>219</th>\n",
       "      <td>1218</td>\n",
       "      <td>Tyrosine</td>\n",
       "    </tr>\n",
       "    <tr>\n",
       "      <th>220</th>\n",
       "      <td>1219</td>\n",
       "      <td>Valine</td>\n",
       "    </tr>\n",
       "    <tr>\n",
       "      <th>221</th>\n",
       "      <td>1220</td>\n",
       "      <td>Arginine</td>\n",
       "    </tr>\n",
       "    <tr>\n",
       "      <th>222</th>\n",
       "      <td>1221</td>\n",
       "      <td>Histidine</td>\n",
       "    </tr>\n",
       "    <tr>\n",
       "      <th>223</th>\n",
       "      <td>1222</td>\n",
       "      <td>Alanine</td>\n",
       "    </tr>\n",
       "    <tr>\n",
       "      <th>224</th>\n",
       "      <td>1223</td>\n",
       "      <td>Aspartic acid</td>\n",
       "    </tr>\n",
       "    <tr>\n",
       "      <th>225</th>\n",
       "      <td>1224</td>\n",
       "      <td>Glutamic acid</td>\n",
       "    </tr>\n",
       "    <tr>\n",
       "      <th>226</th>\n",
       "      <td>1225</td>\n",
       "      <td>Glycine</td>\n",
       "    </tr>\n",
       "    <tr>\n",
       "      <th>227</th>\n",
       "      <td>1226</td>\n",
       "      <td>Proline</td>\n",
       "    </tr>\n",
       "    <tr>\n",
       "      <th>228</th>\n",
       "      <td>1227</td>\n",
       "      <td>Serine</td>\n",
       "    </tr>\n",
       "    <tr>\n",
       "      <th>229</th>\n",
       "      <td>1228</td>\n",
       "      <td>Hydroxyproline</td>\n",
       "    </tr>\n",
       "    <tr>\n",
       "      <th>230</th>\n",
       "      <td>1229</td>\n",
       "      <td>Cysteine and methionine(sulfer containig AA)</td>\n",
       "    </tr>\n",
       "    <tr>\n",
       "      <th>231</th>\n",
       "      <td>1230</td>\n",
       "      <td>Phenylalanine and tyrosine (aromatic  AA)</td>\n",
       "    </tr>\n",
       "    <tr>\n",
       "      <th>232</th>\n",
       "      <td>1231</td>\n",
       "      <td>Asparagine</td>\n",
       "    </tr>\n",
       "    <tr>\n",
       "      <th>233</th>\n",
       "      <td>1232</td>\n",
       "      <td>Cysteine</td>\n",
       "    </tr>\n",
       "    <tr>\n",
       "      <th>234</th>\n",
       "      <td>1233</td>\n",
       "      <td>Glutamine</td>\n",
       "    </tr>\n",
       "  </tbody>\n",
       "</table>\n",
       "</div>"
      ],
      "text/plain": [
       "       id                                          name\n",
       "4    1003                                       Protein\n",
       "211  1210                                    Tryptophan\n",
       "212  1211                                     Threonine\n",
       "213  1212                                    Isoleucine\n",
       "214  1213                                       Leucine\n",
       "215  1214                                        Lysine\n",
       "216  1215                                    Methionine\n",
       "217  1216                                       Cystine\n",
       "218  1217                                 Phenylalanine\n",
       "219  1218                                      Tyrosine\n",
       "220  1219                                        Valine\n",
       "221  1220                                      Arginine\n",
       "222  1221                                     Histidine\n",
       "223  1222                                       Alanine\n",
       "224  1223                                 Aspartic acid\n",
       "225  1224                                 Glutamic acid\n",
       "226  1225                                       Glycine\n",
       "227  1226                                       Proline\n",
       "228  1227                                        Serine\n",
       "229  1228                                Hydroxyproline\n",
       "230  1229  Cysteine and methionine(sulfer containig AA)\n",
       "231  1230     Phenylalanine and tyrosine (aromatic  AA)\n",
       "232  1231                                    Asparagine\n",
       "233  1232                                      Cysteine\n",
       "234  1233                                     Glutamine"
      ]
     },
     "execution_count": 28,
     "metadata": {},
     "output_type": "execute_result"
    }
   ],
   "source": [
    "df1"
   ]
  },
  {
   "cell_type": "code",
   "execution_count": 30,
   "id": "fcc4a207",
   "metadata": {},
   "outputs": [],
   "source": [
    "merger = pd.merge(df2, df1 , left_on=('nutrient_id'), right_on=('id'))"
   ]
  },
  {
   "cell_type": "code",
   "execution_count": 35,
   "id": "970df29b",
   "metadata": {},
   "outputs": [
    {
     "name": "stdout",
     "output_type": "stream",
     "text": [
      "       fdc_id  nutrient_id  amount    id           name\n",
      "0      167512         1003   5.880  1003        Protein\n",
      "1      167513         1003   4.340  1003        Protein\n",
      "2      167514         1003   6.100  1003        Protein\n",
      "3      167515         1003   8.000  1003        Protein\n",
      "4      167516         1003   6.580  1003        Protein\n",
      "...       ...          ...     ...   ...            ...\n",
      "28077  175304         1217   0.941  1217  Phenylalanine\n",
      "33126  175304         1218   0.833  1218       Tyrosine\n",
      "58305  175304         1219   1.452  1219         Valine\n",
      "63375  175304         1220   1.989  1220       Arginine\n",
      "68451  175304         1221   0.565  1221      Histidine\n",
      "\n",
      "[99974 rows x 5 columns]\n"
     ]
    }
   ],
   "source": [
    "merger\n",
    "\n",
    "sorted_df = merger.sort_values(by=['fdc_id', 'nutrient_id'])\n",
    "\n",
    "\n",
    "print(sorted_df)\n",
    "\n"
   ]
  },
  {
   "cell_type": "code",
   "execution_count": 36,
   "id": "427db101",
   "metadata": {},
   "outputs": [],
   "source": [
    "sorted_df.to_csv('sorted_df.csv', index=False)"
   ]
  },
  {
   "cell_type": "code",
   "execution_count": 39,
   "id": "9724f3f7",
   "metadata": {},
   "outputs": [],
   "source": [
    "sixteen=sorted_df[sorted_df['fdc_id'] ==  167535]"
   ]
  },
  {
   "cell_type": "code",
   "execution_count": 44,
   "id": "0c5ba3c6",
   "metadata": {
    "scrolled": true
   },
   "outputs": [
    {
     "name": "stdout",
     "output_type": "stream",
     "text": [
      "Total Sum: 14.688\n",
      "Sum for Nutrient 1003: 8.01\n",
      "Result: 6.678000000000001\n"
     ]
    }
   ],
   "source": [
    "total_sum = sixteen['amount'].sum()\n",
    "sum_for_nutrient_1003 = sixteen[sixteen['nutrient_id'] == 1003]['amount'].sum()\n",
    "result = total_sum - sum_for_nutrient_1003\n",
    "\n",
    "print(\"Total Sum:\", total_sum)\n",
    "print(\"Sum for Nutrient 1003:\", sum_for_nutrient_1003)\n",
    "print(\"Result:\", result)"
   ]
  },
  {
   "cell_type": "code",
   "execution_count": 48,
   "id": "5847612e",
   "metadata": {},
   "outputs": [],
   "source": [
    "cols_to_read = ['fdc_id', 'description', 'food_category_id']"
   ]
  },
  {
   "cell_type": "code",
   "execution_count": 49,
   "id": "68c3908e",
   "metadata": {},
   "outputs": [],
   "source": [
    "food = pd.read_csv('food.csv' , usecols=cols_to_read)\n"
   ]
  },
  {
   "cell_type": "code",
   "execution_count": 51,
   "id": "886d5e96",
   "metadata": {},
   "outputs": [],
   "source": [
    "joined = pd.merge(sorted_df, food, on = 'fdc_id', how='inner')"
   ]
  },
  {
   "cell_type": "code",
   "execution_count": 53,
   "id": "5bdcbcb8",
   "metadata": {},
   "outputs": [],
   "source": [
    "joined.to_csv('joined.csv', index=False)"
   ]
  },
  {
   "cell_type": "code",
   "execution_count": 65,
   "id": "ce2c839e",
   "metadata": {},
   "outputs": [],
   "source": [
    "cols_to_read = ['id', 'description']"
   ]
  },
  {
   "cell_type": "code",
   "execution_count": 67,
   "id": "27e43799",
   "metadata": {},
   "outputs": [],
   "source": [
    "category = pd.read_csv('food_category.csv', usecols=cols_to_read)"
   ]
  },
  {
   "cell_type": "code",
   "execution_count": 69,
   "id": "39e54133",
   "metadata": {},
   "outputs": [],
   "source": [
    "category_joined = pd.merge(joined, category, left_on='food_category_id', right_on='id')"
   ]
  },
  {
   "cell_type": "code",
   "execution_count": 71,
   "id": "b2f218a1",
   "metadata": {},
   "outputs": [],
   "source": [
    "category_joined = category_joined.drop(['id_x', 'id_y'], axis=1)"
   ]
  },
  {
   "cell_type": "code",
   "execution_count": 74,
   "id": "12448a72",
   "metadata": {},
   "outputs": [],
   "source": [
    "category_joined.to_csv('category_joined.csv' , index= False)"
   ]
  },
  {
   "cell_type": "code",
   "execution_count": 75,
   "id": "8bc40c61",
   "metadata": {},
   "outputs": [
    {
     "data": {
      "text/html": [
       "<div>\n",
       "<style scoped>\n",
       "    .dataframe tbody tr th:only-of-type {\n",
       "        vertical-align: middle;\n",
       "    }\n",
       "\n",
       "    .dataframe tbody tr th {\n",
       "        vertical-align: top;\n",
       "    }\n",
       "\n",
       "    .dataframe thead th {\n",
       "        text-align: right;\n",
       "    }\n",
       "</style>\n",
       "<table border=\"1\" class=\"dataframe\">\n",
       "  <thead>\n",
       "    <tr style=\"text-align: right;\">\n",
       "      <th></th>\n",
       "      <th>fdc_id</th>\n",
       "      <th>nutrient_id</th>\n",
       "      <th>amount</th>\n",
       "      <th>name</th>\n",
       "      <th>description_x</th>\n",
       "      <th>food_category_id</th>\n",
       "      <th>description_y</th>\n",
       "    </tr>\n",
       "  </thead>\n",
       "  <tbody>\n",
       "    <tr>\n",
       "      <th>0</th>\n",
       "      <td>167512</td>\n",
       "      <td>1003</td>\n",
       "      <td>5.880</td>\n",
       "      <td>Protein</td>\n",
       "      <td>Pillsbury Golden Layer Buttermilk Biscuits, Ar...</td>\n",
       "      <td>18</td>\n",
       "      <td>Baked Products</td>\n",
       "    </tr>\n",
       "    <tr>\n",
       "      <th>1</th>\n",
       "      <td>167513</td>\n",
       "      <td>1003</td>\n",
       "      <td>4.340</td>\n",
       "      <td>Protein</td>\n",
       "      <td>Pillsbury, Cinnamon Rolls with Icing, refriger...</td>\n",
       "      <td>18</td>\n",
       "      <td>Baked Products</td>\n",
       "    </tr>\n",
       "    <tr>\n",
       "      <th>2</th>\n",
       "      <td>167514</td>\n",
       "      <td>1003</td>\n",
       "      <td>6.100</td>\n",
       "      <td>Protein</td>\n",
       "      <td>Kraft Foods, Shake N Bake Original Recipe, Coa...</td>\n",
       "      <td>18</td>\n",
       "      <td>Baked Products</td>\n",
       "    </tr>\n",
       "    <tr>\n",
       "      <th>3</th>\n",
       "      <td>167515</td>\n",
       "      <td>1003</td>\n",
       "      <td>8.000</td>\n",
       "      <td>Protein</td>\n",
       "      <td>George Weston Bakeries, Thomas English Muffins</td>\n",
       "      <td>18</td>\n",
       "      <td>Baked Products</td>\n",
       "    </tr>\n",
       "    <tr>\n",
       "      <th>4</th>\n",
       "      <td>167516</td>\n",
       "      <td>1003</td>\n",
       "      <td>6.580</td>\n",
       "      <td>Protein</td>\n",
       "      <td>Waffles, buttermilk, frozen, ready-to-heat</td>\n",
       "      <td>18</td>\n",
       "      <td>Baked Products</td>\n",
       "    </tr>\n",
       "    <tr>\n",
       "      <th>...</th>\n",
       "      <td>...</td>\n",
       "      <td>...</td>\n",
       "      <td>...</td>\n",
       "      <td>...</td>\n",
       "      <td>...</td>\n",
       "      <td>...</td>\n",
       "      <td>...</td>\n",
       "    </tr>\n",
       "    <tr>\n",
       "      <th>99969</th>\n",
       "      <td>175304</td>\n",
       "      <td>1217</td>\n",
       "      <td>0.941</td>\n",
       "      <td>Phenylalanine</td>\n",
       "      <td>Game meat, goat, cooked, roasted</td>\n",
       "      <td>17</td>\n",
       "      <td>Lamb, Veal, and Game Products</td>\n",
       "    </tr>\n",
       "    <tr>\n",
       "      <th>99970</th>\n",
       "      <td>175304</td>\n",
       "      <td>1218</td>\n",
       "      <td>0.833</td>\n",
       "      <td>Tyrosine</td>\n",
       "      <td>Game meat, goat, cooked, roasted</td>\n",
       "      <td>17</td>\n",
       "      <td>Lamb, Veal, and Game Products</td>\n",
       "    </tr>\n",
       "    <tr>\n",
       "      <th>99971</th>\n",
       "      <td>175304</td>\n",
       "      <td>1219</td>\n",
       "      <td>1.452</td>\n",
       "      <td>Valine</td>\n",
       "      <td>Game meat, goat, cooked, roasted</td>\n",
       "      <td>17</td>\n",
       "      <td>Lamb, Veal, and Game Products</td>\n",
       "    </tr>\n",
       "    <tr>\n",
       "      <th>99972</th>\n",
       "      <td>175304</td>\n",
       "      <td>1220</td>\n",
       "      <td>1.989</td>\n",
       "      <td>Arginine</td>\n",
       "      <td>Game meat, goat, cooked, roasted</td>\n",
       "      <td>17</td>\n",
       "      <td>Lamb, Veal, and Game Products</td>\n",
       "    </tr>\n",
       "    <tr>\n",
       "      <th>99973</th>\n",
       "      <td>175304</td>\n",
       "      <td>1221</td>\n",
       "      <td>0.565</td>\n",
       "      <td>Histidine</td>\n",
       "      <td>Game meat, goat, cooked, roasted</td>\n",
       "      <td>17</td>\n",
       "      <td>Lamb, Veal, and Game Products</td>\n",
       "    </tr>\n",
       "  </tbody>\n",
       "</table>\n",
       "<p>99974 rows × 7 columns</p>\n",
       "</div>"
      ],
      "text/plain": [
       "       fdc_id  nutrient_id  amount           name  \\\n",
       "0      167512         1003   5.880        Protein   \n",
       "1      167513         1003   4.340        Protein   \n",
       "2      167514         1003   6.100        Protein   \n",
       "3      167515         1003   8.000        Protein   \n",
       "4      167516         1003   6.580        Protein   \n",
       "...       ...          ...     ...            ...   \n",
       "99969  175304         1217   0.941  Phenylalanine   \n",
       "99970  175304         1218   0.833       Tyrosine   \n",
       "99971  175304         1219   1.452         Valine   \n",
       "99972  175304         1220   1.989       Arginine   \n",
       "99973  175304         1221   0.565      Histidine   \n",
       "\n",
       "                                           description_x  food_category_id  \\\n",
       "0      Pillsbury Golden Layer Buttermilk Biscuits, Ar...                18   \n",
       "1      Pillsbury, Cinnamon Rolls with Icing, refriger...                18   \n",
       "2      Kraft Foods, Shake N Bake Original Recipe, Coa...                18   \n",
       "3         George Weston Bakeries, Thomas English Muffins                18   \n",
       "4             Waffles, buttermilk, frozen, ready-to-heat                18   \n",
       "...                                                  ...               ...   \n",
       "99969                   Game meat, goat, cooked, roasted                17   \n",
       "99970                   Game meat, goat, cooked, roasted                17   \n",
       "99971                   Game meat, goat, cooked, roasted                17   \n",
       "99972                   Game meat, goat, cooked, roasted                17   \n",
       "99973                   Game meat, goat, cooked, roasted                17   \n",
       "\n",
       "                       description_y  \n",
       "0                     Baked Products  \n",
       "1                     Baked Products  \n",
       "2                     Baked Products  \n",
       "3                     Baked Products  \n",
       "4                     Baked Products  \n",
       "...                              ...  \n",
       "99969  Lamb, Veal, and Game Products  \n",
       "99970  Lamb, Veal, and Game Products  \n",
       "99971  Lamb, Veal, and Game Products  \n",
       "99972  Lamb, Veal, and Game Products  \n",
       "99973  Lamb, Veal, and Game Products  \n",
       "\n",
       "[99974 rows x 7 columns]"
      ]
     },
     "execution_count": 75,
     "metadata": {},
     "output_type": "execute_result"
    }
   ],
   "source": [
    "category_joined"
   ]
  },
  {
   "cell_type": "code",
   "execution_count": 76,
   "id": "c296f342",
   "metadata": {},
   "outputs": [
    {
     "data": {
      "text/plain": [
       "88.32"
      ]
     },
     "execution_count": 76,
     "metadata": {},
     "output_type": "execute_result"
    }
   ],
   "source": [
    "category_joined['amount'].max()"
   ]
  }
 ],
 "metadata": {
  "kernelspec": {
   "display_name": "Python 3 (ipykernel)",
   "language": "python",
   "name": "python3"
  },
  "language_info": {
   "codemirror_mode": {
    "name": "ipython",
    "version": 3
   },
   "file_extension": ".py",
   "mimetype": "text/x-python",
   "name": "python",
   "nbconvert_exporter": "python",
   "pygments_lexer": "ipython3",
   "version": "3.11.5"
  }
 },
 "nbformat": 4,
 "nbformat_minor": 5
}
